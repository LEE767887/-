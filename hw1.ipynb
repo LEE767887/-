{
 "cells": [
  {
   "cell_type": "markdown",
   "metadata": {},
   "source": [
    "## algorithm design and anlysis-2025 spring  homework 1 \n",
    "**Deadline**：2025.5.14\n",
    "\n",
    "**name**: 李国玲\n",
    "\n",
    "\n",
    "note：\n",
    "---\n",
    "1. 带有\\*的题目，申请免上课的同学，必须完成，其他同学选作；\n",
    "2. 请独立完成，如求助了他人或者大模型，请著明，并且不可省略算法分析部分；\n",
    "4. 如若作答有雷同，全部取消成绩；\n",
    "3. 需要书面作答的题目，可以通过引用图片的形式添加，但是注意上传项目时包含所引用的图片的源文件；\n",
    "4. $log_n$ 默认表示$log_2{n}$;"
   ]
  },
  {
   "cell_type": "markdown",
   "metadata": {},
   "source": [
    "## 问题 1\n",
    "\n",
    "对于下面的每一对表达式(A, B), A是否能表示为B的 $\\Theta, \\Omega ,O$形式. 请注意, 这些关系中的零个、一个或多个可能成立。列出所有正确的。经常发生一些学生会,把指示写错, 所以请把关系写完整, 例如: $A = O(B),  A =\\Theta(B)$, 或$A = \\Omega(B)$。\n",
    "\n",
    "1. $A=n^2-100n, B=n^2$\n",
    "2. $A=logn, B=log_{1.2}n$\n",
    "3. $A=3^{2n}, B=2^{4n}$\n",
    "4. $A=2^{logn}, B=n$\n",
    "5. $A=\\log{\\log}{n},B=10^{10^{100}}$"
   ]
  },
  {
   "attachments": {},
   "cell_type": "markdown",
   "metadata": {},
   "source": [
    "<img src=\"./fig/hw1q1.png\" >"
   ]
  },
  {
   "cell_type": "markdown",
   "metadata": {},
   "source": [
    "## 问题 2：\n",
    "\n",
    "假设有函数 $f$ 和 $g$ 使得 $f(n)$ = $O(g(n))$ 对于下面的每一个陈述, 请判断对错, 如果正确请给出证明, 否则请给出一个反例。\n",
    "\n",
    "1. $\\log{f(n)}$ = $O(\\log(1+g(n)))$\n",
    "2. $3^{f(n)}=O(3^{g(n)})$\n",
    "3. $(f(n))^2=O((g(n))^2)$ "
   ]
  },
  {
   "attachments": {},
   "cell_type": "markdown",
   "metadata": {},
   "source": [
    "<img src=\"./fig/hw1q2.png\" >"
   ]
  },
  {
   "cell_type": "markdown",
   "metadata": {},
   "source": [
    "## 问题 3\n",
    "\n",
    "根据下列递归公式, 计算下列 $T(n)$ 对应的的渐近上界。要求所求的边界尽可能的紧（tight）, 请写明步骤。\n",
    "\n",
    "1. $T(1)=1; T(n)=T(n/4)+1$ for $n>1$\n",
    "2. $T(1)=1;T(n)=3T(n/3)+n^2$ for $n>1$\n",
    "3. $T(1)=1;T(n)=T(2n/3)+1$ for $n>1$\n",
    "4. $T(1)=1;T(n)=5T(n/4)+n$ for $n>1$\n",
    "5. $T(n)=1 \\ for\\ n \\le 2 ; T(n)=T(\\sqrt{n})+1 \\ for \\ n>2$"
   ]
  },
  {
   "attachments": {},
   "cell_type": "markdown",
   "metadata": {},
   "source": [
    "can refer a handwritten picture, pleas upload the picture in /fig/xxx.png\n",
    "answer:<img src=\"./fig/hw1q3.png\" >"
   ]
  },
  {
   "cell_type": "markdown",
   "metadata": {},
   "source": [
    "## 问题 4：\n",
    "\n",
    "给定一个包含n个元素的数组 `profits` , 它的第 `i` 个元素 `profits[i]` 表示一支股票第 `i` 天的**收益**（正数表示涨, 负数表示跌）。你只能选择 **某一天** 买入这只股票, 并选择在 **未来的某一个不同的日子** 卖出该股票。\n",
    "\n",
    "1. 设计一个算法来计算你所能获取的最大利润和对应买入和卖出的日期。请分析算法方案, 计算其时间复杂度, 并且使用python编程实现该算法。\n",
    "\n",
    "2. \\* 设计一个时间复杂度为 $O(n)$的算法实现该算法\n",
    "\n",
    "e.g. :\n",
    "---\n",
    "profits=[3,2,1,-7,5,2,-1,3,-1], 第5天买入, 第8天卖出, 收益最大：9\n",
    "\n"
   ]
  },
  {
   "cell_type": "markdown",
   "metadata": {},
   "source": [
    "idea:考察最大子序列和问题，这里考虑理想情况：每天的收益，指当天股票的涨跌情况， 只要在当天买入或卖出，都会收到当天的涨跌影响"
   ]
  },
  {
   "cell_type": "code",
   "execution_count": 1,
   "metadata": {},
   "outputs": [
    {
     "name": "stdout",
     "output_type": "stream",
     "text": [
      "5-th day buy in, 8 sale out\n",
      "max earning:9\n"
     ]
    }
   ],
   "source": [
    "# O(n)\n",
    "def tradeStock(profits):\n",
    "    acculates = [0]*len(profits)\n",
    "    acculates[0] = profits[0]\n",
    "\n",
    "    for i in range(1,len(acculates)):\n",
    "        acculates[i] = acculates[i-1]+profits[i]\n",
    "    \n",
    "    index_start, index_end = 0, 0\n",
    "    high = float(\"-inf\")\n",
    "    low = float(\"inf\")\n",
    "    for index in range(len(acculates)):\n",
    "        if acculates[index] < low:\n",
    "            low = acculates[index]\n",
    "            index_start = index+1\n",
    "        if acculates[index] > high:\n",
    "            high = acculates[index]\n",
    "            index_end = index\n",
    "    \n",
    "    maxEarning = high - low\n",
    "    return maxEarning, index_start, index_end\n",
    "\n",
    "profits = [3,2,1,-7,5,2,-1,3,-1]\n",
    "\n",
    "earning, index_start, index_end = tradeStock(profits)\n",
    "print(f\"{index_start+1}-th day buy in, {index_end+1} sale out\")\n",
    "print(f\"max earning:{earning}\")"
   ]
  },
  {
   "cell_type": "code",
   "execution_count": 3,
   "metadata": {},
   "outputs": [
    {
     "name": "stdout",
     "output_type": "stream",
     "text": [
      "5-th day buy in, 8 sale out\n",
      "max earning:9\n"
     ]
    }
   ],
   "source": [
    "# O(n)\n",
    "def tradeStock(profits):\n",
    "    index_start, index_end = 0, 0\n",
    "    acculate = 0\n",
    "    maxValue = float(\"-inf\")\n",
    "\n",
    "    for i in range(len(profits)):\n",
    "        if acculate + profits[i] <= 0:\n",
    "            index_start = i\n",
    "            acculate = 0\n",
    "        acculate += profits[i]\n",
    "        if acculate > maxValue:\n",
    "            maxValue = acculate\n",
    "            index_end = i\n",
    "\n",
    "    return maxValue, index_start, index_end\n",
    "\n",
    "profits = [3,2,1,-7,5,2,-1,3,-1]\n",
    "\n",
    "earning, index_start, index_end = tradeStock(profits)\n",
    "print(f\"{index_start+1}-th day buy in, {index_end+1} sale out\")\n",
    "print(f\"max earning:{earning}\")"
   ]
  },
  {
   "cell_type": "markdown",
   "metadata": {},
   "source": [
    "## 问题 5：\n",
    "\n",
    "观察下方的分治算法（divide-and-conquer algorithm）的伪代码, 回答下面问题\n",
    "\n",
    "```latex\n",
    "DoSomething(A,p,r)\n",
    "-----\n",
    "n := r-p+1\n",
    "if n=2 and A[p]>A[r] then\n",
    "    swap A[p] and A[r]\n",
    "else if n >= 3 then\n",
    "    m = ceil(2n/3)\n",
    "    DoSomething(A,p,p+m-1)\n",
    "    DoSomething(A,r-m+1,r)\n",
    "    DoSomething(A,p,p+m-1)  \n",
    "    \n",
    "---\n",
    "first call: DoSomething(A,1,n)\n",
    "```\n",
    "\n",
    "note：$ceil(2n/3)=\\left\\lceil {2n/3} \\right\\rceil$；$:=$ 表示赋值, 等价于 $\\to$；A是一个包含n的整数元素的数组, \n",
    "\n",
    "1. 写出该算法时间复杂度的递归公式, 并求解其对应的渐进表示\n",
    "2. 描述一下该算法的功能, 并判断是否是最高效的解决方案\n",
    "3. 使用python编程实现上述算法或其对应的更高效版本的算法\n"
   ]
  },
  {
   "cell_type": "markdown",
   "metadata": {},
   "source": [
    "idea：考察分治策略，归并排序"
   ]
  },
  {
   "cell_type": "markdown",
   "metadata": {},
   "source": [
    "考虑 [3,2,1] 排序\n",
    "递归公式：\n",
    "当 n≥3时，算法的时间复杂度满足递推关系 $T(n)=3T\\left(\\left\\lceil\\frac{2n}{3}\\right\\rceil\\right)+O(1)$  当n=2时，T(n)=O(1)\n",
    "\n",
    "渐进表示： $T(n)=\\Theta\\left(n^{\\log_{3/2}3}\\right)\\approx\\Theta(n^{2.71})$\n",
    "\n",
    "具体推导：\n",
    "主定理中，a=3，b=3/2, f(n)=O(1)。由于$n^{\\log_ba}=n^{\\log_{3/2}3}$ 且f(n) 的增长速度远小于 $n^{\\log_ba}$，因此时间复杂度为 $\\Theta(B)n^{\\log_{3/2}3}$\n",
    "\n",
    "功能描述：\n",
    "该算法是一个分治排序算法，其核心操作是通过递归划分并交换元素，逐步将数组排序。具体步骤为：\n",
    "1.当子数组长度为2时，直接比较并交换元素使其有序。\n",
    "2.当子数组长度≥3时，递归处理前 2/3 部分、后 2/3部分，再重复处理前 2/3部分。\n",
    "通过这种递归重叠的划分方式，最终完成整个数组的排序。"
   ]
  },
  {
   "cell_type": "code",
   "execution_count": 5,
   "metadata": {},
   "outputs": [
    {
     "name": "stdout",
     "output_type": "stream",
     "text": [
      "before: <class 'list'>,[3, 2, 1]\n",
      "[1, 2, 3]\n"
     ]
    }
   ],
   "source": [
    "import numpy as np\n",
    "\n",
    "def dosth(arr,p,r):\n",
    "    n = r-p+1\n",
    "    if n==2 and arr[p]>arr[r]:\n",
    "        arr[p], arr[r] = arr[r], arr[p]\n",
    "    elif n>=3:\n",
    "        m = int(np.ceil(2*n/3))\n",
    "        dosth(arr,p,p+m-1)\n",
    "        dosth(arr,r-m+1,r)\n",
    "        dosth(arr,p,p+m-1)\n",
    "\n",
    "\n",
    "# np.random.seed(1994)\n",
    "# arr = np.random.randint(100,size=10)\n",
    "arr = [3,2,1]\n",
    "arr = list(map(int, arr))\n",
    "print(f\"before: {type(arr)},{arr}\")\n",
    "dosth(arr, 0, len(arr)-1)\n",
    "print(arr) \n",
    "\n",
    "# [54, 99, 34, 75, 80, 90, 76, 84, 30, 63]"
   ]
  },
  {
   "cell_type": "code",
   "execution_count": 7,
   "metadata": {
    "jupyter": {
     "source_hidden": true
    }
   },
   "outputs": [
    {
     "name": "stdout",
     "output_type": "stream",
     "text": [
      "before: <class 'list'>,[3, 2, 1]\n",
      "[2, 1, 3]\n"
     ]
    }
   ],
   "source": [
    "import numpy as np\n",
    "\n",
    "def dosth(arr,p,r):\n",
    "    n = r-p+1\n",
    "    if n==2 and arr[p]>arr[r]:\n",
    "        arr[p], arr[r] = arr[r], arr[p]\n",
    "    elif n>=3:\n",
    "        m = int(np.ceil(2*n/3))\n",
    "        dosth(arr,p,p+m-1)\n",
    "        dosth(arr,r-m+1,r)\n",
    "        # dosth(arr,p,p+m-1)\n",
    "\n",
    "# np.random.seed(1994)\n",
    "# arr = np.random.randint(100,size=10)\n",
    "arr = [3,2,1]\n",
    "arr = list(map(int, arr))\n",
    "print(f\"before: {type(arr)},{arr}\")\n",
    "dosth(arr, 0, len(arr)-1)\n",
    "print(arr) "
   ]
  },
  {
   "cell_type": "markdown",
   "metadata": {},
   "source": [
    "\n",
    "recursion: T(n) = 3T(2n/3)+1\n",
    "\n",
    "a= 3, b=3/2, c=0, log_b{a}=log_{3/2}{3}>0,    master theorem case 1, $\\Theta{n^{log_{3/2}3}}$\n",
    "\n",
    "merge sort $\\Theta(nlogn)$"
   ]
  },
  {
   "cell_type": "code",
   "execution_count": 9,
   "metadata": {},
   "outputs": [
    {
     "name": "stdout",
     "output_type": "stream",
     "text": [
      "[-7, -1, -1, 1, 2, 2, 3, 3, 5]\n"
     ]
    }
   ],
   "source": [
    "## merge sort\n",
    "def merge(arr, pre, tail, q):\n",
    "    if pre >= tail:\n",
    "        return\n",
    "    Larr = []\n",
    "    for i in range(pre, q+1):\n",
    "        Larr.append(arr[i])\n",
    "    Larr.append(float(\"inf\"))\n",
    "    \n",
    "    Rarr = []\n",
    "    for i in range(q+1, tail+1):\n",
    "        Rarr.append(arr[i])\n",
    "    Rarr.append(float(\"inf\"))\n",
    "\n",
    "    i, j = 0, 0\n",
    "    for k in range(pre, tail+1):\n",
    "        if Larr[i] <= Rarr[j]:\n",
    "            arr[k] = Larr[i]\n",
    "            i+=1\n",
    "        else:\n",
    "            arr[k] = Rarr[j]\n",
    "            j+=1\n",
    "    return\n",
    "\n",
    "def mergeSort(arr, pre, tail):\n",
    "    if pre>=tail:\n",
    "        return\n",
    "    q = (pre+tail)//2\n",
    "    mergeSort(arr, pre, q)\n",
    "    mergeSort(arr, q+1, tail)\n",
    "    merge(arr, pre, tail, q)\n",
    "    return\n",
    "\n",
    "arr = [3,2,1,-7,5,2,-1,3,-1]\n",
    "mergeSort(arr, 0, len(arr)-1)\n",
    "print(arr)  "
   ]
  },
  {
   "cell_type": "markdown",
   "metadata": {},
   "source": [
    "## 问题 6：\n",
    "\n",
    "给定一个大小为 `n` 的数组 `nums` , 返回其中的多数元素。多数元素是指在数组中出现次数 **大于** `⌊ n/2 ⌋` 的元素。\n",
    "\n",
    "你可以假设数组是非空的, 并且给定的数组总是存在多数元素。\n",
    "\n",
    "1. 设计一个算法找到给定数组的多数元素, 分析算法设计思路, 计算算法时间复杂度, 使用python编程实现\n",
    "2. \\* 设计时间复杂度为 O(n)、空间复杂度为 O(1) 的算法解决此问题, 分析算法设计思路, 使用python编程实现\n",
    "\n",
    "e.g.:\n",
    "---\n",
    "1. nums=[3,2,3], 返回3\n",
    "2. nums=[2,2,1,1,1,2,2], 返回2\n"
   ]
  },
  {
   "cell_type": "markdown",
   "metadata": {},
   "source": [
    "idea：考察快速排序中的随机选择，计数排序\n",
    "返回多数元素\n",
    "- 法1\n",
    "统计各个元素出现的频率，输出频率大于n/2\n",
    "- 法2\n",
    "多数元素出现的次数>n/2, 因此数组元素的中位数一定是多数元素\n",
    "- 转变为利用快速排序找中位数\n",
    "- 最坏情况，元素逆序，并且分割点分别为n， n-1, n-2,..."
   ]
  },
  {
   "cell_type": "code",
   "execution_count": 9,
   "metadata": {},
   "outputs": [
    {
     "name": "stdout",
     "output_type": "stream",
     "text": [
      "3\n",
      "2\n"
     ]
    }
   ],
   "source": [
    "## runing time: O(n)\n",
    "## work space: O(k), k 不同元素的数目\n",
    "\n",
    "def majorityElement(arr):\n",
    "    n = len(arr)\n",
    "    dic = {}\n",
    "    # count the number\n",
    "    for item in arr:\n",
    "        if item in dic:\n",
    "            dic[item] += 1\n",
    "        else:\n",
    "            dic[item] = 1\n",
    "    for (key, value) in dic.items():\n",
    "        if value > n//2:\n",
    "            return key\n",
    "    return None\n",
    "\n",
    "arr = [3,2,3]\n",
    "nums=[2,2,1,1,1,2,2]\n",
    "print(majorityElement(arr))\n",
    "print(majorityElement(nums))"
   ]
  },
  {
   "cell_type": "code",
   "execution_count": 13,
   "metadata": {},
   "outputs": [
    {
     "name": "stdout",
     "output_type": "stream",
     "text": [
      "4\n"
     ]
    }
   ],
   "source": [
    "## 空间复杂度为O(1), 随机选择\n",
    "## running time: O(n)\n",
    "## work space: O(1)\n",
    "\n",
    "import random\n",
    "def partation(arr, pre,tail):\n",
    "    q = random.choice(range(pre, tail+1))\n",
    "    arr[q], arr[tail] = arr[tail], arr[q]\n",
    "\n",
    "    j = pre\n",
    "    for i in range(pre,tail):\n",
    "        if arr[i] < arr[tail]:\n",
    "                arr[j], arr[i] = arr[i], arr[j]\n",
    "                j += 1\n",
    "    arr[j], arr[tail] = arr[tail], arr[j]\n",
    "    return j\n",
    "\n",
    "def randomSelect(arr, pre, tail, k):\n",
    "     if len(arr) == 0:\n",
    "          return None\n",
    "     if len(arr) == 1:\n",
    "          return arr[0]\n",
    "     q = partation(arr, pre, tail)\n",
    "     if q>k:\n",
    "          return randomSelect(arr, pre, q-1, k)\n",
    "     elif q<k:\n",
    "          return randomSelect(arr,q+1, tail, k)\n",
    "     else:\n",
    "          return arr[q]\n",
    "     \n",
    "arr = [1,24,4,4,4,4,4,4,4,3,3,3,3]\n",
    "\n",
    "print(randomSelect(arr, 0, len(arr)-1, len(arr)//2))\n",
    "          "
   ]
  },
  {
   "cell_type": "markdown",
   "metadata": {},
   "source": [
    "## 问题 7：\n",
    "\n",
    "给定一个包含不同整数元素的数组 $ A[1..n]$ ,并且满足条件：$A[1]>A[2]$ 并且 $A[n-1]<A[n]$; 规定：如果一个元素比它两边的邻居元素都小, 即：$A[x]<A[x-1], A[x]<A[x+1]$ , 称这个元素A[x]为“局部最小”。通过遍历一次数组, 我们可以很容易在 $O(n)$的时间复杂度下找到一个局部最小值, \n",
    "\n",
    "\n",
    "1. 分析该问题, 设计一个算法在$O(logn)$的时间复杂度下找到一个局部最小(返回数值), 要求：分析算法设计思路, 并且使用python编程实现\n",
    "2. \\* 设计算法找出所有局部最小值, 分析算法设计思路, 并使用python编程实现\n",
    "\n",
    "e.g.:\n",
    "---\n",
    "A=[9, 3, 7, 2, 1, 4, 5 ] 时,  局部最小元素为 3, 1\n"
   ]
  },
  {
   "cell_type": "markdown",
   "metadata": {},
   "source": [
    "idea：\n",
    "求局部最小。如有一个数组arr[x..y]， $arr[x] \\geq arr[x+1] $, 并且 $ arr[y-1] \\leqslant arr[y] $, 则 arr[x..y]中必然存在局部最小值。\n",
    "\n",
    "则可以使用二分查找法实现，running time：$\\Theta(logn)$\n"
   ]
  },
  {
   "cell_type": "code",
   "execution_count": 11,
   "metadata": {},
   "outputs": [
    {
     "name": "stdout",
     "output_type": "stream",
     "text": [
      "3\n"
     ]
    }
   ],
   "source": [
    "## binary search\n",
    "# running time: O(logn)\n",
    "\n",
    "def searchLocalMin(arr, pre, tail):\n",
    "    if tail-pre<2:\n",
    "        return None\n",
    "    # check the second element\n",
    "    if arr[pre]>arr[pre+1] and arr[pre+2]>arr[pre+1]:\n",
    "        return arr[pre+1]\n",
    "    \n",
    "    # check the mid element\n",
    "    mid = (pre+tail)//2\n",
    "    if arr[mid]<arr[mid-1] and arr[mid]<arr[mid+1]:\n",
    "        return arr[mid]\n",
    "    elif arr[mid]>arr[mid-1]:\n",
    "        return searchLocalMin(arr, pre, mid)\n",
    "    elif arr[mid]>=arr[mid+1]:\n",
    "        return searchLocalMin(arr, mid, tail)\n",
    "    \n",
    "arr = [9, 3, 7, 2, 1, 4, 5]\n",
    "print(searchLocalMin(arr, 0, len(arr)-1))"
   ]
  },
  {
   "cell_type": "code",
   "execution_count": 17,
   "metadata": {},
   "outputs": [
    {
     "name": "stdout",
     "output_type": "stream",
     "text": [
      "[2, 1, 9]\n"
     ]
    }
   ],
   "source": [
    "## print all local min\n",
    "## running time: O(n)\n",
    "\n",
    "def searchAllLocalMin(arr):\n",
    "    if len(arr)<=2:\n",
    "        return None\n",
    "    localMins = []\n",
    "    for i in range(1,len(arr)-1):\n",
    "        if arr[i]<arr[i-1] and arr[i]<arr[i+1]:\n",
    "            localMins.append(arr[i])\n",
    "    if len(localMins)==0:\n",
    "        return None\n",
    "    return localMins\n",
    "\n",
    "arr = [5,2,3,1,4,6,10,9,20]\n",
    "print(searchAllLocalMin(arr))"
   ]
  },
  {
   "cell_type": "markdown",
   "metadata": {},
   "source": [
    "## 问题 8：\n",
    "\n",
    "给定包含n个不同数字的一组数, 寻找一种基于比较的算法在这组数中找到k个最小的数字, 并按顺序输出它们。\n",
    "\n",
    "1. 将n个数先进行排序, 然后按顺序输出最小的k个数。要求：选择合适的排序算法实现上述操作, 计算算法时间复杂度, 并使用python编程实现。\n",
    "2. 建立一个包含这n个数的堆（heap）, 并且调用 k 次Extract-min 按顺序输出最小的k个数。使用往空堆中不断插入元素的方法建立堆, 分析这种方法建堆的时间复杂度, 并使用python编程实现\n",
    "3. \\* 假设数组中包含的数据总数目超过了计算机的存储能力, 请设计一个算法, 找到这堆数据的前k小的数值, 计算时间复杂度, 并使用python实现该算法, 假设计算机一定能存储k个数据。\n",
    "\n",
    "e.g.：\n",
    "---\n",
    "数组arr=[5,4,3,2,6,1,88,33,22,107] 的前3个最小数据为：1, 2, 3\n"
   ]
  },
  {
   "cell_type": "markdown",
   "metadata": {},
   "source": [
    "idea：\n",
    "输出 top k 元素\n",
    "方法1：\n",
    "先排序，然后输出前k个元素。\n",
    "快速排序 running time: $\\Theta(nlogn)$\n",
    "runing time: $\\Theta(nlogn+k)=\\Theta(nlogn)$\n",
    "work space：O(1)， quicksort 为原地排序\n",
    "\n",
    "方法2：\n",
    "建立包含所有数据的最小堆，输出最小堆的前k个最小值\n",
    "\n",
    "方法3：\n",
    "建立一个包含k个数据的最大堆，当其他数据小于堆的最大值时，弹出堆的最大值，并将新的数据插入其中"
   ]
  },
  {
   "cell_type": "code",
   "execution_count": 19,
   "metadata": {},
   "outputs": [
    {
     "name": "stdout",
     "output_type": "stream",
     "text": [
      "[1, 2, 3]\n"
     ]
    }
   ],
   "source": [
    "## quicksort\n",
    "# runing time: O(nlogn)\n",
    "import random\n",
    "\n",
    "def partation(arr, pre, tail):\n",
    "    pivot = random.choice(range(pre,tail+1))\n",
    "    arr[pivot], arr[tail] = arr[tail], arr[pivot]\n",
    "\n",
    "    j = pre\n",
    "    for i in range(pre,tail):\n",
    "        if arr[i] < arr[tail]:\n",
    "            arr[j], arr[i] = arr[i], arr[j]\n",
    "            j += 1\n",
    "    arr[j], arr[tail] = arr[tail], arr[j]\n",
    "    return j\n",
    "\n",
    "def quickSort(arr, pre, tail):\n",
    "    if pre>=tail:\n",
    "        return\n",
    "    \n",
    "    pivot = partation(arr, pre, tail)\n",
    "    \n",
    "    quickSort(arr, pre, pivot-1)\n",
    "    quickSort(arr, pivot+1, tail)\n",
    "    return\n",
    "def topk(arr, k):\n",
    "    quickSort(arr, 0, len(arr)-1)\n",
    "    return arr[:k]\n",
    "\n",
    "arr = [5,2,3,1,4,6,10,9,20]\n",
    "k = 3\n",
    "print(topk(arr, k))\n"
   ]
  },
  {
   "cell_type": "code",
   "execution_count": 21,
   "metadata": {},
   "outputs": [
    {
     "name": "stdout",
     "output_type": "stream",
     "text": [
      "[41, 21, 56, 24, 37, 90, 0, 15, 13, 41, 86, 89, 47, 21, 21, 94, 25, 14, 67, 54, 85, 55, 68, 69, 39, 16, 51, 72, 3, 64, 97, 45, 33, 25, 19, 60, 70, 66, 19, 61]\n",
      "[0, 13, 3, 14, 37, 21, 16, 19, 15, 41, 55, 47, 39, 21, 21, 33, 25, 24, 19, 54, 85, 86, 68, 90, 69, 89, 51, 72, 56, 64, 97, 94, 45, 41, 25, 60, 70, 67, 66, 61]\n",
      "0\n",
      "3\n",
      "13\n",
      "14\n"
     ]
    }
   ],
   "source": [
    "## heap\n",
    "# running time: O(nlogk)\n",
    "\n",
    "class Minheap():\n",
    "    def __init__(self) -> None:\n",
    "        self.heap = []\n",
    "    \n",
    "    def insert(self, item):\n",
    "        self.heap.append(item)\n",
    "        self._heapifyUp(len(self.heap))\n",
    "\n",
    "    def _heapifyUp(self, index):\n",
    "        parent = (index)//2\n",
    "        while index!=1 and self.heap[index-1] < self.heap[parent-1]:\n",
    "            self.heap[index-1], self.heap[parent-1] = self.heap[parent-1], self.heap[index-1]\n",
    "            index = parent\n",
    "            parent = (index)//2\n",
    "    \n",
    "    def extractMin(self):\n",
    "        if len(self.heap)==0:\n",
    "            return None\n",
    "        if len(self.heap)==1:\n",
    "            return self.heap.pop()\n",
    "        else:\n",
    "            self.heap[0], self.heap[-1] = self.heap[-1], self.heap[0]\n",
    "            minvalue = self.heap.pop()\n",
    "            self._heapifydown()\n",
    "            return minvalue\n",
    "        \n",
    "    def _heapifydown(self):\n",
    "        index = 1\n",
    "        lchild = 2*index\n",
    "        rchild = 2*index+1\n",
    "        while lchild <= len(self.heap) or rchild <=len(self.heap):\n",
    "            if rchild <= len(self.heap):\n",
    "                if self.heap[lchild-1] < self.heap[rchild-1]:\n",
    "                    smaller = lchild\n",
    "                else:\n",
    "                    smaller = rchild\n",
    "            elif lchild <= len(self.heap):\n",
    "                smaller = lchild\n",
    "            else:\n",
    "                break\n",
    "\n",
    "            if self.heap[index-1] > self.heap[smaller-1]:\n",
    "                self.heap[index-1], self.heap[smaller-1] = self.heap[smaller-1], self.heap[index-1]\n",
    "                index = smaller\n",
    "                lchild = 2*index\n",
    "                rchild = 2*index+1\n",
    "            else:\n",
    "                break\n",
    "\n",
    "    def heaptop(self):\n",
    "        return self.heap[0]\n",
    "\n",
    "arr = [41,21,56,24,37,90,0,15,13,41,86,89,47,21,21,94,25,14,67,54,85,55,68,69,39,16,51,72,3,64,97,45,33,25,19,60,70,66,19,61]\n",
    "print(arr)\n",
    "minheap = Minheap()\n",
    "\n",
    "for item in arr:\n",
    "    minheap.insert(item)\n",
    "print(minheap.heap)\n",
    "\n",
    "\n",
    "for i in range(4):\n",
    "    print(minheap.extractMin())\n"
   ]
  },
  {
   "cell_type": "code",
   "execution_count": 23,
   "metadata": {},
   "outputs": [
    {
     "name": "stdout",
     "output_type": "stream",
     "text": [
      "[41, 21, 56, 24, 37, 90, 0, 15, 13, 41, 86, 89, 47, 21, 21, 94, 25, 14, 67, 54, 85, 55, 68, 69, 39, 16, 51, 72, 3, 64, 97, 45, 33, 25, 19, 60, 70, 66, 19, 61]\n",
      "[15, 14, 13, 0, 3]\n",
      "[0, 3, 13, 14, 15]\n"
     ]
    }
   ],
   "source": [
    "## build maxheap for store k element\n",
    "\n",
    "class Maxheap():\n",
    "    def __init__(self) -> None:\n",
    "        self.heap = []\n",
    "\n",
    "    def insert(self, item):\n",
    "        self.heap.append(item)\n",
    "        self._heapifyUp(len(self.heap))\n",
    "\n",
    "    def _heapifyUp(self, index):\n",
    "        parent = index//2\n",
    "        while index!=1 and self.heap[index-1] > self.heap[parent-1]:\n",
    "            self.heap[index-1], self.heap[parent-1] = self.heap[parent-1], self.heap[index-1]\n",
    "            index = parent\n",
    "            parent = index//2\n",
    "    \n",
    "    def extractMax(self):\n",
    "        if len(self.heap)==0:\n",
    "            return None\n",
    "        elif len(self.heap)==1:\n",
    "            return self.heap.pop()\n",
    "        else:\n",
    "            self.heap[0], self.heap[-1] = self.heap[-1], self.heap[0]\n",
    "            maxvalue = self.heap.pop()\n",
    "            self._heapifydown()\n",
    "            return maxvalue\n",
    "        \n",
    "    def _heapifydown(self):\n",
    "        index = 1\n",
    "        lchild = 2*index\n",
    "        rchild = 2*index+1\n",
    "        while lchild <= len(self.heap) or rchild <=len(self.heap):\n",
    "            if rchild <= len(self.heap):\n",
    "                if self.heap[lchild-1]>self.heap[rchild-1]:\n",
    "                    bigger = lchild\n",
    "                else:\n",
    "                    bigger = rchild\n",
    "            elif lchild <= len(self.heap):\n",
    "                bigger = lchild\n",
    "            else:\n",
    "                break\n",
    "\n",
    "            if self.heap[index-1] < self.heap[bigger-1]:\n",
    "                self.heap[index-1], self.heap[bigger-1] = self.heap[bigger-1], self.heap[index-1]\n",
    "                index = bigger\n",
    "                lchild = 2*index\n",
    "                rchild = 2*index+1\n",
    "            else:\n",
    "                break\n",
    "\n",
    "\n",
    "    def heaptop(self):\n",
    "        return self.heap[0]\n",
    "    \n",
    "\n",
    "arr = [41,21,56,24,37,90,0,15,13,41,86,89,47,21,21,94,25,14,67,54,85,55,68,69,39,16,51,72,3,64,97,45,33,25,19,60,70,66,19,61]\n",
    "print(arr)\n",
    "maxheap = Maxheap()\n",
    "k = 5\n",
    "for i,item in enumerate(arr):\n",
    "    if i<k:\n",
    "        maxheap.insert(item)\n",
    "    elif item < maxheap.heaptop():\n",
    "        maxheap.extractMax()\n",
    "        maxheap.insert(item)\n",
    "print(maxheap.heap)\n",
    "\n",
    "\n",
    "reverseList = []\n",
    "for i in range(len(maxheap.heap)):\n",
    "    reverseList.append(maxheap.extractMax())\n",
    "\n",
    "reverseList.reverse() # 此时保存的是逆序数组，因此需要反转\n",
    "print(reverseList)   "
   ]
  },
  {
   "cell_type": "code",
   "execution_count": 25,
   "metadata": {},
   "outputs": [
    {
     "name": "stdout",
     "output_type": "stream",
     "text": [
      "24,54,27,54,32,99,64,0,59,20,71,44,84,7,77,70,84,29,35,49,95,42,10,56,74,80,61,75,71,45,24,72,94,30,2,24,65,69,96,24,"
     ]
    }
   ],
   "source": [
    "import random\n",
    "for i in range(40):\n",
    "    print(random.choice(range(100)), end=',')"
   ]
  },
  {
   "cell_type": "markdown",
   "metadata": {},
   "source": [
    "## 问题 9：\n",
    "\n",
    "**选择问题**:给定一个包含n个未排序值的数组A和一个$k≤n$的整数, 返回A中最小的第k项。\n",
    "\n",
    "在课堂上, 学了一个简单的O(n)随机算法来解决选择问题。事实上还有一种更复杂的最坏情况下时间复杂度为$O(n)$ 的选择算法。假设使用一个黑盒过程来实现这个O(n)选择算法: 给定一个数组A、 $p < r$ 和 k,  $BB(A, p, r, k)$ 可以在$O(r−p+ 1)$时间内找到并报告$A[p..r]$中第k小的项的下标。假设你可以在线性时间内处理Partition过程。\n",
    "\n",
    "1. 请分析如何修改 Quicksork 算法可以使其最差情况下的运行时间为 $O(nlogn)$, 使用伪代码实现, 并分析为何修改后的版本最差情况的运行时间为$O(nlogn)$\n",
    "\n",
    "note: 伪代码中, 你可以直接调用用` BB(A,p,r,k)`这个函数用于表示在最坏情况下时间复杂度为$O(n)$的选择算法；\n",
    "\n",
    "\n",
    "\n",
    "2. 找到一个更好的算法报告数组A中的前k小的项, 使用伪代码表示你的算法, 并分析你算法的时间复杂度。\n",
    "\n",
    "举例：A=[13, 3, 7, 9, 11, 1, 15, 2, 8, 10, 12, 16, 14, 5], 当k=4时, 应该报告1, 2, 3, 4\n",
    "\n",
    "note： 最直观的方法就是先将数组A排序, 然后从左向右报告其前k项, 这样操作的时间复杂度为$O(nlogn)$. 调用用` BB(A,p,r,k)`设计一个算法使其报告无序数组A的前k项, 满足时间复杂度好于$\\Theta(nlogn)$, 并且当$k=\\sqrt{n}$时, 你设计的算法时间复杂度应该为$\\Theta(n)$.\n",
    "\n",
    "\n",
    "\n",
    "3. 给定一个大小为n的数组, 找到一个 时间复杂度为$O(n log k)$ 的算法, 该算法将A中的元素重新排序, 使它们被划分为k个部分, 每个部分的元素小于或等于下一部分的元素。假设n和k都是2的幂。使用伪代码表示你的算法, 并分析时间复杂度。\n",
    "\n",
    "e.g.:\n",
    "---\n",
    "数组：[1,  3,  5,  7,  9,  11,  13,  15,  2,  4,  6,  8,  10,  12,  16,  14], k=4, \n",
    "\n",
    "对应重新排序的数组为：[1,  3,  2,  4]  [7,  6,  5,  8]  [12,  11,  10,  9]  [13,  14,  16,  15]\n",
    "\n",
    "\n"
   ]
  },
  {
   "cell_type": "markdown",
   "metadata": {},
   "source": [
    "idea：时间复杂度递归公式：$T(n)=2T(n/2)+n$, 满足master theorem case 1, $\\Theta(T(n))=\\Theta(nlogn)$  因此，时间复杂度的下限为$\\Omega(nlogn)$\n",
    "\n",
    "1. \n",
    "```\n",
    "// O(nlogn)\n",
    "def quicksort(A,p,r):\n",
    "    if p>r then return\n",
    "    q:= partition(A,p,r)\n",
    "    qicksort(A,p,q-1)\n",
    "    qicksort(A,q+1,r)\n",
    "\n",
    "def partition(A,p,r):\n",
    "    mid := BB(A,p,r,r+(r-p)//2)  // 中间值坐标 O(r-p+1)\n",
    "    swap A[r] and A[mid]\n",
    "    𝑖:=𝑝−1 \n",
    "    for j←p to r-1\n",
    "        if 𝐴[𝑗]≤𝑥 then\n",
    "            𝑖:=𝑖+1\n",
    "            swap A[i] and A[j]\n",
    "    swap A[i+1] and A[r]\n",
    "    return 𝑖+1    \n",
    "```\n",
    "\n",
    "2.  idea: 使用快排，结合BB(A,p,r,k) 先确定第k个数据的位置，只保留1对k-1的数据，用于下一次递归，依次递归，递归公式 T(n)=T(k)+n, T(k)=T(k-1)+k，..., T(1)=1\n",
    "\n",
    "$T(n)=n+k+(k-1)+...+1=n+\\frac{(k+1)*k}{2} = n+k^2$\n",
    "\n",
    "\n",
    "3. idea：计算复杂度中如包含$logn$ 一定和二分法有关系\n",
    "\n",
    "k和n都是2的幂，每次都将找到数组元素的中位数，将数组元素一分为二；对分割后的所有子数组重复上述分割，直到子数组元素的个数为$\\frac{n}{k}$停止，输出所有子数组即为所求\n",
    "\n",
    "递归公式 T(n)=2T(n/2)+n,..., $T(\\frac(n){k})=1$,    $2^{i-1}=k$  i表示递归树的高度，===》$i=logk$  ==> $T(n)=i*n=nlogk$\n"
   ]
  },
  {
   "cell_type": "markdown",
   "metadata": {},
   "source": [
    "## 问题 10：\n",
    "\n",
    "给定一个包含m个**字符串**的数组A, 其中不同的字符串可能有不同的字符数, 但数组中所有字符串的字符总数为n。设计一个算法在 $O(n)$ 时间内对字符串进行排序, 分析算法设计方案, 计算其时间复杂度, 并基于python编程实现该算法。请注意, 假设字符串只包含\"a\",\"b\",...,\"z\", \n",
    "\n",
    "\n",
    "\n",
    "举例1：数组A=[\"a\", \"da\", \"bde\", \"ab\", \"bc\", \"abdc\", \"cdba\"], 排序后的数组应该为：['a', 'ab', 'abdc', 'bc', 'bde', 'cdba', 'da']\n",
    "\n",
    "\n",
    "\n",
    "举例2：数组A=['ab', 'a', 'b', 'abc', 'ba', 'c'], 排序后的数组应该为：\n",
    "\n",
    "['a', 'ab', 'abc', 'b', 'ba', 'c']\n",
    "\n",
    "\n",
    "\n",
    "举例3：数组A=['aef', 'yzr', 'wr', 'ab', 'bhjc', 'lkabdc', 'pwcdba'],  排序后的数组应该为：['ab', 'aef', 'bhjc', 'lkabdc', 'pwcdba', 'wr', 'yzr']\n",
    "\n",
    "\n",
    "\n",
    "note：\n",
    "\n",
    "-  两个字符之间的比较可以考虑比较他们对应的ASCII码值；\n",
    "- python中可以使用`ord(\"a\")`返回字符 “a”对应的ASCII值"
   ]
  },
  {
   "cell_type": "markdown",
   "metadata": {},
   "source": [
    "idea:考察计数排序（count sort）和基数排序（radix）\n",
    "\n",
    "数组中有m个字符串，字符串长度不一致，共有n个字符串，只会出现a-z，“ ” 一共27个字符，“ ”字符是为了左对齐字符串\n",
    "\n",
    "1. 假设字符串最长为d\n",
    "\n",
    "2. 将所有字符串先左对齐，然后所有字符串填充到长度为d，填充字符为“ ”\n",
    "\n",
    "3. 利用计数排序，从右到左将字符串按第i字符进行计数排序， 字符计数排序的范围为：0-26，0对应“ ”\n",
    "\n",
    "4. 第三步i的取值分别为[d,d-1,...,1], 安装i的取值依次重复3对字符串进行排序\n",
    "\n",
    "\n",
    "计算复杂度=$O(d*m)$, 由于总的字符数为n，因此存在一个常数c使得$d*m \\leq c*n$  即$d*m=O(n)$, 因此总的时间复杂度为O(n)"
   ]
  },
  {
   "cell_type": "code",
   "execution_count": 27,
   "metadata": {},
   "outputs": [
    {
     "name": "stdout",
     "output_type": "stream",
     "text": [
      "before: ['aef', 'yzr', 'wr', 'ab', 'bhjc', 'lkabdc', 'pwcdba']\n",
      "after:['ab', 'aef', 'bhjc', 'lkabdc', 'pwcdba', 'wr', 'yzr']\n"
     ]
    }
   ],
   "source": [
    "def countsort(arr, index):\n",
    "    count = [0] * 27   # \" \" 和a-z\n",
    "    # count\n",
    "    for s in arr:\n",
    "        if s[index] == \" \":\n",
    "            count[0] += 1\n",
    "        else:\n",
    "            count[ord(s[index])-ord('a')+1] += 1\n",
    "\n",
    "    # cumulative count\n",
    "    for i in range(1, 27):\n",
    "        count[i] += count[i-1]\n",
    "    # build output array\n",
    "    output = [\"\"] * len(arr)\n",
    "    for i in range(len(arr)-1,-1,-1):  # 这里逆序恢复，确保相同元素排序前后相对位置不变\n",
    "        s = arr[i]\n",
    "        if s[index] == \" \":\n",
    "            index_count = 0\n",
    "        else:\n",
    "            index_count = ord(s[index])-ord('a')+1\n",
    "\n",
    "        output[count[index_count]-1] = s\n",
    "        count[index_count] -= 1\n",
    "    # copy to arr\n",
    "    for i in range(len(arr)):\n",
    "        arr[i] = output[i]\n",
    "\n",
    "def sort_strings(arr):\n",
    "    maxlen = max(len(s) for s in arr)\n",
    "    # padding the strings to the same length\n",
    "    arr = [s.ljust(maxlen, ' ') for s in arr]\n",
    "    \n",
    "    for i in range(maxlen-1,-1,-1):\n",
    "        countsort(arr, i)\n",
    "\n",
    "    # remove padding\n",
    "    arr = [s.rstrip() for s in arr]\n",
    "    return arr\n",
    "\n",
    "\n",
    "arr = [\"aef\", \"yzr\", \"wr\", \"ab\", \"bhjc\", \"lkabdc\", \"pwcdba\"]\n",
    "print(f\"before: {arr}\")\n",
    "arr = sort_strings(arr)\n",
    "print(f\"after:{arr}\")"
   ]
  },
  {
   "cell_type": "code",
   "execution_count": 29,
   "metadata": {},
   "outputs": [
    {
     "name": "stdout",
     "output_type": "stream",
     "text": [
      "97 57\n",
      "`\n"
     ]
    }
   ],
   "source": [
    "print(ord('a'),ord('9'))\n",
    "print(chr(96))"
   ]
  }
 ],
 "metadata": {
  "kernelspec": {
   "display_name": "Python [conda env:base] *",
   "language": "python",
   "name": "conda-base-py"
  },
  "language_info": {
   "codemirror_mode": {
    "name": "ipython",
    "version": 3
   },
   "file_extension": ".py",
   "mimetype": "text/x-python",
   "name": "python",
   "nbconvert_exporter": "python",
   "pygments_lexer": "ipython3",
   "version": "3.12.7"
  }
 },
 "nbformat": 4,
 "nbformat_minor": 4
}
