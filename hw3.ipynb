{
 "cells": [
  {
   "cell_type": "markdown",
   "metadata": {},
   "source": [
    "## algorithm design and anlysis-2025 spring  homework 3\n",
    "**Deadline**：2025.5.14\n",
    "\n",
    "**name**:  李国玲\n",
    "\n",
    "\n",
    "note：\n",
    "---\n",
    "1. 带有\\*的题目，申请免上课的同学，必须完成，其他同学选作；\n",
    "2. 请独立完成，如求助了他人或者大模型，请著明，并且不可省略算法分析部分；\n",
    "4. 如若作答有雷同，全部取消成绩；\n",
    "3. 需要书面作答的题目，可以通过引用图片的形式添加，但是注意上传项目时包含所引用的图片的源文件；\n",
    "4. $log_n$ 默认表示$log_2{n}$;"
   ]
  },
  {
   "cell_type": "markdown",
   "metadata": {},
   "source": [
    "## 问题 1  \n",
    "\n",
    "请证明基于比较的排序算法计算复杂度下界为$\\Omega(nlogn)$"
   ]
  },
  {
   "cell_type": "markdown",
   "metadata": {},
   "source": [
    "答案：对于高度为h的二叉树，叶子数最多为2^h。因此，2^h ≥ n! ⇒ h ≥ log(n!)。"
   ]
  },
  {
   "cell_type": "markdown",
   "metadata": {},
   "source": [
    "## 问题 2 \n",
    "\n",
    "构建二叉搜索树\n",
    "\n",
    "> 1. 给定一个数组 [48, 33, 49, 47, 42, 46, 32], 构建一个二叉搜索树存储这些数据，请**绘制**所构建的**二叉搜索树**（标明结点的值）。\n",
    "> 2. 从第1问的二叉搜索树中删除33，请**绘制**删除33后的**二叉搜索树**（标明结点的值）\n",
    "\n",
    "- 推荐使用graphviz包绘制树的结构"
   ]
  },
  {
   "cell_type": "markdown",
   "metadata": {},
   "source": [
    "<img src=\"./fig/hw3q1.png\" >"
   ]
  },
  {
   "cell_type": "markdown",
   "metadata": {},
   "source": [
    "## 问题 3 \n",
    "\n",
    "> 下面是九门课程的开始和结束时间:\n",
    ">\n",
    "> [(9:00,12:30), (11:00,14:00), (13:00, 14:30), (9:00,10:30),(13:00, 14:30),(14:00,16:30), (15:00,16:30), (15:00,16:30), (9:00,10:30)]\n",
    ">\n",
    "> 请使用贪婪算法为这九门课分配教室，要求在同一天内安排这些课，并且每个教室同一时间只能安排一门课。\n",
    "\n",
    "**请问最少需要几间教室，罗列出每个教室安排的课程**"
   ]
  },
  {
   "cell_type": "markdown",
   "metadata": {},
   "source": [
    "idea：贪心策略：将课程按开始时间排序，优先分配开始时间早的课程。每次选择当前最早空闲的教室（即结束时间最早的可用教室），若无法分配则新增教室。\n",
    "\n",
    "时间复杂度：排序耗时O(n log n)，分配课程时每次遍历教室列表最坏为O(n)，总时间复杂度为O(n²)，但对小规模数据高效。"
   ]
  },
  {
   "cell_type": "code",
   "execution_count": 9,
   "metadata": {
    "vscode": {
     "languageId": "plaintext"
    }
   },
   "outputs": [
    {
     "name": "stdout",
     "output_type": "stream",
     "text": [
      "最少需要教室数量: 3\n",
      "教室1: [('09:00', '10:30'), ('11:00', '14:00'), ('14:00', '16:30')]\n",
      "教室2: [('09:00', '10:30'), ('13:00', '14:30'), ('15:00', '16:30')]\n",
      "教室3: [('09:00', '12:30'), ('13:00', '14:30'), ('15:00', '16:30')]\n"
     ]
    }
   ],
   "source": [
    "def time_to_min(t):\n",
    "    h, m = map(int, t.split(':'))\n",
    "    return h * 60 + m\n",
    "\n",
    "def min_to_time(m):\n",
    "    h = m // 60\n",
    "    mi = m % 60\n",
    "    return f\"{h:02d}:{mi:02d}\"\n",
    "\n",
    "courses = [\n",
    "    ('9:00', '12:30'),\n",
    "    ('11:00', '14:00'),\n",
    "    ('13:00', '14:30'),\n",
    "    ('9:00', '10:30'),\n",
    "    ('13:00', '14:30'),\n",
    "    ('14:00', '16:30'),\n",
    "    ('15:00', '16:30'),\n",
    "    ('15:00', '16:30'),\n",
    "    ('9:00', '10:30'),\n",
    "]\n",
    "\n",
    "converted = []\n",
    "for start, end in courses:\n",
    "    s = time_to_min(start)\n",
    "    e = time_to_min(end)\n",
    "    converted.append((s, e))\n",
    "\n",
    "sorted_courses = sorted(converted, key=lambda x: (x[0], x[1]))\n",
    "\n",
    "import heapq\n",
    "\n",
    "classrooms = []\n",
    "heap = []\n",
    "\n",
    "for course in sorted_courses:\n",
    "    start, end = course\n",
    "    if heap and heap[0][0] <= start:\n",
    "        earliest_end, idx = heapq.heappop(heap)\n",
    "        classrooms[idx].append((start, end))\n",
    "        heapq.heappush(heap, (end, idx))\n",
    "    else:\n",
    "        classrooms.append([(start, end)])\n",
    "        heapq.heappush(heap, (end, len(classrooms)-1))\n",
    "\n",
    "result = []\n",
    "for room in classrooms:\n",
    "    formatted = []\n",
    "    for s, e in room:\n",
    "        formatted.append((min_to_time(s), min_to_time(e)))\n",
    "    result.append(formatted)\n",
    "\n",
    "print(\"最少需要教室数量:\", len(result))\n",
    "for i, room in enumerate(result):\n",
    "    print(f\"教室{i+1}: {room}\")"
   ]
  },
  {
   "cell_type": "markdown",
   "metadata": {},
   "source": [
    "## 问题 4 \n",
    "\n",
    "> 爬楼梯问题：假设爬楼梯时你每次只能爬一阶或者爬两阶，问爬上n阶的楼梯，你一共有多少种方法\n",
    "\n",
    "请设计算法完成该问题，分析算法设计思路，计算时间复杂度，并基于python编程实现"
   ]
  },
  {
   "cell_type": "markdown",
   "metadata": {},
   "source": [
    "idea：动态规划的方法来解决爬楼梯问题。\n",
    "定义两个变量a和b，分别表示爬到第1阶和第2阶楼梯的方法数。\n",
    "然后从第3阶楼梯开始，计算爬到第i阶楼梯的方法数，即爬到第i-1阶楼梯的方法数加上爬到第i-2阶楼梯的方法数。\n",
    "这是因为每次只能爬一阶或两阶，所以爬到第i阶楼梯的方法数等于爬到第i-1阶楼梯的方法数加上爬到第i-2阶楼梯的方法数。\n",
    "不断更新a和b的值，直到计算出爬到第n阶楼梯的方法数。\n",
    "算法的时间复杂度为O(n)，空间复杂度为O(1)。"
   ]
  },
  {
   "cell_type": "code",
   "execution_count": 11,
   "metadata": {},
   "outputs": [
    {
     "name": "stdout",
     "output_type": "stream",
     "text": [
      "89\n"
     ]
    }
   ],
   "source": [
    "def climbStairs(n):\n",
    "    if n == 1:\n",
    "        return 1\n",
    "    elif n == 2:\n",
    "        return 2\n",
    "    else:\n",
    "        a, b = 1, 2\n",
    "        for i in range(2, n):\n",
    "            a, b = b, a + b\n",
    "        return b\n",
    "\n",
    "n = 10\n",
    "print(climbStairs(n))"
   ]
  },
  {
   "cell_type": "markdown",
   "metadata": {},
   "source": [
    "## 问题 5 \n",
    "\n",
    "> 0-1背包问题：现在有4块大理石，每个大理石对应的重量和价值使用一个元组表示, 即（重量，价值），4块大理石的重量和价值为：[(5,10), (4,40), (6,30), (3, 50)], 假设你有一辆最大承重为9的小推车，请问使用这个小推车装大理石的最大价值为多少\n",
    "\n",
    "请设计一个算法解决该问题，分析算法设计思路，计算时间复杂度，并基于python编程实现"
   ]
  },
  {
   "cell_type": "markdown",
   "metadata": {},
   "source": [
    "idea：使用动态规划的方法来解决0-1背包问题。\n",
    "先定义一个二维数组dp，其中dp[i][w]表示前i个物品在总重量不超过w的情况下的最大价值。\n",
    "从第一个物品开始，依次考虑每个物品。对于每个物品，有两种选择：要么不选这个物品，要么选这个物品。\n",
    "如果选这个物品，那么dp[i][w] = dp[i-1][w-weights[i-1]] + values[i-1]，否则dp[i][w] = dp[i-1][w]。\n",
    "算法的时间复杂度为O(nW)，空间复杂度为O(nW)。"
   ]
  },
  {
   "cell_type": "code",
   "execution_count": 13,
   "metadata": {},
   "outputs": [
    {
     "name": "stdout",
     "output_type": "stream",
     "text": [
      "90\n"
     ]
    }
   ],
   "source": [
    "def knapsack(weights, values, W):\n",
    "    n = len(values)\n",
    "    dp = [[0 for _ in range(W + 1)] for _ in range(n + 1)]\n",
    "    \n",
    "    for i in range(1, n + 1):\n",
    "        for w in range(1, W + 1):\n",
    "            if weights[i - 1] <= w:\n",
    "                dp[i][w] = max(dp[i - 1][w], dp[i - 1][w - weights[i - 1]] + values[i - 1])\n",
    "            else:\n",
    "                dp[i][w] = dp[i - 1][w]\n",
    "                \n",
    "    return dp[n][W]\n",
    "\n",
    "weights = [5, 4, 6, 3]\n",
    "values = [10, 40, 30, 50]\n",
    "W = 9\n",
    "print(knapsack(weights, values, W))"
   ]
  },
  {
   "cell_type": "markdown",
   "metadata": {},
   "source": [
    "## 问题 6 \n",
    "给定 `n` 个非负整数表示每个宽度为 `1` 的柱子的高度图，计算按此排列的柱子，下雨之后能接多少雨水。\n",
    "\n",
    "\n",
    "\n",
    "<div style=\"text-align:center;width:800px;\"> <img alt=\"\" src=\"./fig/hw3q6.png\"> </div>\n",
    "\n",
    "请分析算法设计思路，计算时间复杂度，并基于python编程实现"
   ]
  },
  {
   "cell_type": "markdown",
   "metadata": {},
   "source": [
    "idea：使用双指针的方法来解决接雨水问题，首先计算出每个位置左边和右边的最大高度，然后计算出每个位置可以接的雨水量，即min(left[i], right[i]) - height[i]。\n",
    "最后将所有位置可以接的雨水量相加，即可得到总的雨水量。\n",
    "算法的时间复杂度为O(n)，空间复杂度为O(n)。"
   ]
  },
  {
   "cell_type": "code",
   "execution_count": 15,
   "metadata": {},
   "outputs": [
    {
     "name": "stdout",
     "output_type": "stream",
     "text": [
      "6\n",
      "9\n"
     ]
    }
   ],
   "source": [
    "def trap(height):\n",
    "    if not height:\n",
    "        return 0\n",
    "    n = len(height)\n",
    "    left, right = [0]*n, [0]*n\n",
    "    left[0] = height[0]\n",
    "    for i in range(1, n):\n",
    "        left[i] = max(left[i-1], height[i])\n",
    "    right[n-1] = height[n-1]\n",
    "    for i in range(n-2, -1, -1):\n",
    "        right[i] = max(right[i+1], height[i])\n",
    "    ans = 0\n",
    "    for i in range(n):\n",
    "        ans += min(left[i], right[i]) - height[i]\n",
    "    return ans\n",
    "\n",
    "# 测试代码\n",
    "height1 = [0,1,0,2,1,0,1,3,2,1,2,1]\n",
    "height2 = [4,2,0,3,2,5]\n",
    "print(trap(height1))\n",
    "print(trap(height2))"
   ]
  },
  {
   "cell_type": "markdown",
   "metadata": {},
   "source": [
    "## 问题 7 \n",
    "\n",
    "**股票投资组合优化**： 假设你是一位投资者，想要在不同的股票中分配你的资金，以最大化你的投资回报。每只股票都有不同的预期收益率和风险。你的目标是选择一些股票，使得总投资金额不超过你的预算，并且预期收益最大化。\n",
    "\n",
    "在这个情况下，你可以将每只股票视为一个“物品”，其重量为投资金额，价值为预期收益率。然后，你可以使用分级背包问题的方法来选择部分股票，以便在预算内获得最大的预期收益。\n",
    "\n",
    "以下是一个简化的例子：\n",
    "\n",
    "假设你有以下三只股票可供选择：\n",
    "\n",
    "1. 股票 A：投资金额 5000 美元，预期收益率 10%\n",
    "2. 股票 B：投资金额 3000 美元，预期收益率 8%\n",
    "3. 股票 C：投资金额 2000 美元，预期收益率 12%\n",
    "\n",
    "请设计算法找到最优投资方案，分析算法设计思路，计算时间复杂度，并基于python编程实现"
   ]
  },
  {
   "cell_type": "markdown",
   "metadata": {},
   "source": [
    "idea：运用动态规划和贪心算法。将所有股票按照单位投资金额的预期收益率从高到低进行排序。使用动态规划的方法来计算在预算内获得最大预期收益的最优投资方案。\n",
    "定义一个一维数组dp，其中dp[j]表示预算为j时可以获得的最大预期收益。从第一个股票开始，依次考虑每个股票。对于每个股票，我们从预算的最大值开始，依次考虑每个可能的投资金额。\n",
    "如果投资金额加上当前股票的投资金额不超过预算，那么dp[j] = max(dp[j], dp[j - profits[i][0]] + profits[i][1])。"
   ]
  },
  {
   "cell_type": "code",
   "execution_count": 17,
   "metadata": {},
   "outputs": [
    {
     "name": "stdout",
     "output_type": "stream",
     "text": [
      "30\n"
     ]
    }
   ],
   "source": [
    "def maxProfit(profits, budget):\n",
    "    n = len(profits)\n",
    "    profits.sort(reverse=True, key=lambda x: x[1]/x[0])\n",
    "    dp = [0] * (budget + 1)\n",
    "    for i in range(n):\n",
    "        for j in range(budget, profits[i][0] - 1, -1):\n",
    "            dp[j] = max(dp[j], dp[j - profits[i][0]] + profits[i][1])\n",
    "    return max(dp)\n",
    "\n",
    "profits = [(5000, 10), (3000, 8), (2000, 12)]\n",
    "budget = 10000\n",
    "print(maxProfit(profits, budget))"
   ]
  },
  {
   "cell_type": "markdown",
   "metadata": {},
   "source": [
    "## 问题 8\n",
    "\n",
    "给你二叉搜索树的根节点 root ，该树中的恰好两个节点的值被错误地交换。请在不改变其结构的情况下，恢复这棵树 。设计算法解决该问题，分析算法设计思路，计算时间复杂度，并基于python编程实现\n",
    "\n",
    "e.g.:\n",
    "---\n",
    "1.\n",
    "\n",
    "<div style=\"text-align:center;width:200px;\"> <img alt=\"\" src=\"./fig/hw3q9-1.jpg\"> </div>\n",
    "输入：root = [1,3,null,null,2]， 输出为：[3,1,null,null,2]， \n",
    "\n",
    "解释：3 不能是 1 的左孩子，因为 3 > 1 。交换 1 和 3 使二叉搜索树有效。\n",
    "\n",
    "2.\n",
    "\n",
    " <div style=\"text-align:center;width:200px;\"> <img alt=\"\" src=\"./fig/hw3q9-1.jpg\"> </div>\n",
    "输入： root=[3,1,4,null,null,2]， 输出为：[2,1,4,null,null,3]\n",
    "\n",
    "解释：2 不能在 3 的右子树中，因为 2 < 3 。交换 2 和 3 使二叉搜索树有效。"
   ]
  },
  {
   "cell_type": "markdown",
   "metadata": {},
   "source": [
    "idea：\n",
    "通过中序遍历二叉搜索树，记录不符合递增顺序的节点对。第一个错误节点为前驱节点（first），第二个错误节点为当前节点（second）。\n",
    "遍历完成后，交换first和second的值以恢复BST性质。中序遍历时间复杂度为O(n)，交换操作O(1)，总时间复杂度为O(n)。递归栈空间为O(h)，h为树高，最坏情况O(n)。"
   ]
  },
  {
   "cell_type": "code",
   "execution_count": 21,
   "metadata": {},
   "outputs": [
    {
     "name": "stdout",
     "output_type": "stream",
     "text": [
      "[3, 1, None, None, 2]\n",
      "[2, 1, 4, None, None, 3]\n"
     ]
    }
   ],
   "source": [
    "class TreeNode:\n",
    "    def __init__(self, val=0, left=None, right=None):\n",
    "        self.val = val\n",
    "        self.left = left\n",
    "        self.right = right\n",
    "\n",
    "class Solution:\n",
    "    def recoverTree(self, root):\n",
    "        self.prev = None\n",
    "        self.first = None\n",
    "        self.second = None\n",
    "        \n",
    "        def inorder(node):\n",
    "            if not node:\n",
    "                return\n",
    "            inorder(node.left)\n",
    "            if self.prev and self.prev.val > node.val:\n",
    "                if not self.first:\n",
    "                    self.first = self.prev\n",
    "                self.second = node\n",
    "            self.prev = node\n",
    "            inorder(node.right)\n",
    "        \n",
    "        inorder(root)\n",
    "        if self.first and self.second:\n",
    "            self.first.val, self.second.val = self.second.val, self.first.val\n",
    "\n",
    "\n",
    "def build_tree(nodes):\n",
    "    if not nodes:\n",
    "        return None\n",
    "    root = TreeNode(nodes[0])\n",
    "    queue = [root]\n",
    "    index = 1\n",
    "    while queue and index < len(nodes):\n",
    "        node = queue.pop(0)\n",
    "        if nodes[index] is not None:\n",
    "            node.left = TreeNode(nodes[index])\n",
    "            queue.append(node.left)\n",
    "        index +=1\n",
    "        if index < len(nodes) and nodes[index] is not None:\n",
    "            node.right = TreeNode(nodes[index])\n",
    "            queue.append(node.right)\n",
    "        index +=1\n",
    "    return root\n",
    "\n",
    "def print_tree(root):\n",
    "    res = []\n",
    "    queue = [root]\n",
    "    while queue:\n",
    "        node = queue.pop(0)\n",
    "        if node:\n",
    "            res.append(node.val)\n",
    "            queue.append(node.left)\n",
    "            queue.append(node.right)\n",
    "        else:\n",
    "            res.append(None)\n",
    "    while res and res[-1] is None:\n",
    "        res.pop()\n",
    "    return res\n",
    "\n",
    "root = build_tree([1,3,None,None,2])\n",
    "s = Solution()\n",
    "s.recoverTree(root)\n",
    "print(print_tree(root))  \n",
    "\n",
    "root2 = build_tree([3,1,4,None,None,2])\n",
    "s.recoverTree(root2)\n",
    "print(print_tree(root2))  "
   ]
  },
  {
   "cell_type": "markdown",
   "metadata": {},
   "source": [
    "## 问题 9  \n",
    "\n",
    "给你一个二叉树的根节点 root ，树中每个节点都存放有一个 0 到 9 之间的数字。每条从根节点到叶节点的路径都代表一个数字：\n",
    "\n",
    "> 例如，从根节点到叶节点的路径 1 -> 2 -> 3 表示数字 123 。\n",
    "\n",
    "设计一个算法计算从根节点到叶节点生成的所有数字之和 ，分析算法设计思路，计算时间复杂度，并基于python编程实现\n",
    "\n",
    "叶节点:是指没有子节点的节点。\n",
    "\n",
    "e.g.:\n",
    "---\n",
    "1.\n",
    "\n",
    " <div style=\"text-align:center;width:200px;\"> <img alt=\"figure\" src=\"./fig/hw3q10-1.jpg\"> </div>\n",
    "\n",
    " 输入：root = [1,2,3], 输出：25\n",
    "\n",
    "解释：从根到叶子节点路径 1->2 代表数字 12，1->3 代表数字 13，因此和为 12 + 13 = 25 。\n",
    "\n",
    "2.\n",
    "\n",
    " <div style=\"text-align:center;width:200px;\"> <img alt=\"figure\" src=\"./fig/hw3q10-2.jpg\"> </div>\n",
    "\n",
    " 输入：root = [4,9,0,5,1], 输出：1026\n",
    "\n",
    "解释：从根到叶子节点路径 4->9->5 代表数字 495，4->9->1 代表数字 491，4->0 代表数字 40。因此和为 495 + 491 + 40 = 1026 。"
   ]
  },
  {
   "cell_type": "markdown",
   "metadata": {},
   "source": [
    "idea：从根节点开始，递归遍历每个节点，计算当前路径的数值。\n",
    "当到达叶节点时，将当前路径的数值累加到总和中。使用一个辅助函数dfs来执行递归遍历，并跟踪当前路径的数值。\n",
    "算法的时间复杂度为O(n)，其中n是树中节点的数量，因为需要遍历所有节点。\n",
    "空间复杂度为O(h)。"
   ]
  },
  {
   "cell_type": "code",
   "execution_count": 23,
   "metadata": {},
   "outputs": [
    {
     "name": "stdout",
     "output_type": "stream",
     "text": [
      "25\n",
      "1026\n"
     ]
    }
   ],
   "source": [
    "class TreeNode:\n",
    "    def __init__(self, x):\n",
    "        self.val = x\n",
    "        self.left = None\n",
    "        self.right = None\n",
    "\n",
    "def sumNumbers(root):\n",
    "    if not root:\n",
    "        return 0\n",
    "    \n",
    "    def dfs(node, current_sum):\n",
    "        if not node:\n",
    "            return 0\n",
    "        current_sum = current_sum * 10 + node.val\n",
    "        if not node.left and not node.right:\n",
    "            return current_sum\n",
    "        return dfs(node.left, current_sum) + dfs(node.right, current_sum)\n",
    "    \n",
    "    return dfs(root, 0)\n",
    "\n",
    "root1 = TreeNode(1)\n",
    "root1.left = TreeNode(2)\n",
    "root1.right = TreeNode(3)\n",
    "\n",
    "\n",
    "root2 = TreeNode(4)\n",
    "root2.left = TreeNode(9)\n",
    "root2.left.left = TreeNode(5)\n",
    "root2.left.right = TreeNode(1)\n",
    "root2.right = TreeNode(0)\n",
    "\n",
    "print(sumNumbers(root1))  \n",
    "print(sumNumbers(root2))  "
   ]
  },
  {
   "cell_type": "markdown",
   "metadata": {},
   "source": [
    "## 问题 10  \n",
    "\n",
    "给你一个二叉树的根节点 root ， 检查它是否轴对称。\n",
    "\n",
    "1. 分析算法设计思路，计算时间复杂度，并基于python编程实现\n",
    "2. \\* 设计使用递归和迭代两种方法解决这个问题，计算时间复杂度，并基于python编程实现\n",
    "\n",
    "e.g.:\n",
    "---\n",
    "1.\n",
    "\n",
    " <div style=\"text-align:center;width:200px;\"> <img alt=\"figure\" src=\"./fig/hw3q11-1.png\"> </div>\n",
    "\n",
    " 输入：root = [1,2,2,3,4,4,3]， 输出：true\n",
    "\n",
    "解释：二叉树 [1,2,2,3,4,4,3] 对称。\n",
    "\n",
    "2.\n",
    "\n",
    " <div style=\"text-align:center;width:200px;\"> <img alt=\"figure\" src=\"./fig/hw3q11-2.png\"> </div>\n",
    "\n",
    " 输入：root = [1,2,2,null,3,null,3]， 输出：false"
   ]
  },
  {
   "cell_type": "markdown",
   "metadata": {},
   "source": [
    "idea：定义一个辅助函数 isMirror，用于检查两个子树是否为镜像。对于每个节点，比较其左子树和右子树的值，然后递归地检查左子树的左孩子和右子树的右孩子，以及左子树的右孩子和右子树的左孩子。"
   ]
  },
  {
   "cell_type": "code",
   "execution_count": 25,
   "metadata": {},
   "outputs": [
    {
     "name": "stdout",
     "output_type": "stream",
     "text": [
      "True\n",
      "True\n"
     ]
    }
   ],
   "source": [
    "class TreeNode:\n",
    "    def __init__(self, x):\n",
    "        self.val = x\n",
    "        self.left = None\n",
    "        self.right = None\n",
    "\n",
    "def isSymmetric(root):\n",
    "    if not root:\n",
    "        return True\n",
    "    \n",
    "    def isMirror(left, right):\n",
    "        if not left and not right:\n",
    "            return True\n",
    "        if not left or not right:\n",
    "            return False\n",
    "        return left.val == right.val and isMirror(left.left, right.right) and isMirror(left.right, right.left)\n",
    "    \n",
    "    return isMirror(root.left, root.right)\n",
    "\n",
    "root1 = TreeNode(1)\n",
    "root1.left = TreeNode(2)\n",
    "root1.right = TreeNode(2)\n",
    "root1.left.left = TreeNode(3)\n",
    "root1.left.right = TreeNode(4)\n",
    "root1.right.left = TreeNode(4)\n",
    "root1.right.right = TreeNode(3)\n",
    "\n",
    "\n",
    "root2 = TreeNode(1)\n",
    "root2.left = TreeNode(2)\n",
    "root2.right = TreeNode(2)\n",
    "root2.left.left = TreeNode(3)\n",
    "root2.right.right = TreeNode(3)\n",
    "\n",
    "print(isSymmetric(root1))  \n",
    "print(isSymmetric(root2))  "
   ]
  },
  {
   "cell_type": "markdown",
   "metadata": {},
   "source": [
    "## 问题 11  \n",
    "\n",
    "给你一个由 '1'（陆地）和 '0'（水）组成的的二维网格，请你计算网格中岛屿的数量。岛屿总是被水包围，并且每座岛屿只能由水平方向和/或竖直方向上相邻的陆地连接形成。\n",
    "\n",
    "此外，你可以假设该网格的四条边均被水包围。\n",
    "\n",
    "分析算法设计思路，计算时间复杂度，并基于python编程实现\n",
    "\n",
    "e.g.:\n",
    "---\n",
    "1.\n",
    "输入：grid = [\n",
    "\n",
    "    [\"1\",\"1\",\"1\",\"1\",\"0\"],\n",
    "\n",
    "    [\"1\",\"1\",\"0\",\"1\",\"0\"], \n",
    "\n",
    "    [\"1\",\"1\",\"0\",\"0\",\"0\"], \n",
    "\n",
    "    [\"0\",\"0\",\"0\",\"0\",\"0\"]  \n",
    "\n",
    "]\n",
    "\n",
    "输出：1\n",
    "\n",
    "2.\n",
    "输入：grid = [\n",
    "\n",
    "    [\"1\",\"1\",\"0\",\"0\",\"0\"],\n",
    "\n",
    "    [\"1\",\"1\",\"0\",\"0\",\"0\"],\n",
    "\n",
    "    [\"0\",\"0\",\"1\",\"0\",\"0\"],\n",
    "\n",
    "    [\"0\",\"0\",\"0\",\"1\",\"1\"]\n",
    "\n",
    "]\n",
    "\n",
    "输出：3"
   ]
  },
  {
   "cell_type": "markdown",
   "metadata": {},
   "source": [
    "idea:用深度优先搜索的方法\n",
    "定义一个二维数组visited来记录每个位置是否被访问过。遍历整个网格，当遇到一个未被访问过的陆地（'1'）时将其作为起点，开始DFS搜索，将所有与其相邻的陆地标记为已访问。每次遇到一个新的陆地，就增加岛屿计数"
   ]
  },
  {
   "cell_type": "code",
   "execution_count": 27,
   "metadata": {},
   "outputs": [
    {
     "name": "stdout",
     "output_type": "stream",
     "text": [
      "1\n",
      "3\n"
     ]
    }
   ],
   "source": [
    "def numIslands(grid):\n",
    "    if not grid:\n",
    "        return 0\n",
    "    \n",
    "    rows, cols = len(grid), len(grid[0])\n",
    "    visited = [[False for _ in range(cols)] for _ in range(rows)]\n",
    "    islands = 0\n",
    "    \n",
    "    def dfs(row, col):\n",
    "        if row < 0 or row >= rows or col < 0 or col >= cols or grid[row][col] == '0' or visited[row][col]:\n",
    "            return\n",
    "        visited[row][col] = True\n",
    "        dfs(row + 1, col)\n",
    "        dfs(row - 1, col)\n",
    "        dfs(row, col + 1)\n",
    "        dfs(row, col - 1)\n",
    "    \n",
    "    for i in range(rows):\n",
    "        for j in range(cols):\n",
    "            if grid[i][j] == '1' and not visited[i][j]:\n",
    "                islands += 1\n",
    "                dfs(i, j)\n",
    "    \n",
    "    return islands\n",
    "\n",
    "grid1 = [\n",
    "    [\"1\",\"1\",\"1\",\"1\",\"0\"],\n",
    "    [\"1\",\"1\",\"0\",\"1\",\"0\"],\n",
    "    [\"1\",\"1\",\"0\",\"0\",\"0\"],\n",
    "    [\"0\",\"0\",\"0\",\"0\",\"0\"]\n",
    "]\n",
    "print(numIslands(grid1))  \n",
    "\n",
    "grid2 = [\n",
    "    [\"1\",\"1\",\"0\",\"0\",\"0\"],\n",
    "    [\"1\",\"1\",\"0\",\"0\",\"0\"],\n",
    "    [\"0\",\"0\",\"1\",\"0\",\"0\"],\n",
    "    [\"0\",\"0\",\"0\",\"1\",\"1\"]\n",
    "]\n",
    "print(numIslands(grid2)) "
   ]
  },
  {
   "cell_type": "code",
   "execution_count": null,
   "metadata": {},
   "outputs": [],
   "source": []
  }
 ],
 "metadata": {
  "kernelspec": {
   "display_name": "Python [conda env:base] *",
   "language": "python",
   "name": "conda-base-py"
  },
  "language_info": {
   "codemirror_mode": {
    "name": "ipython",
    "version": 3
   },
   "file_extension": ".py",
   "mimetype": "text/x-python",
   "name": "python",
   "nbconvert_exporter": "python",
   "pygments_lexer": "ipython3",
   "version": "3.12.7"
  }
 },
 "nbformat": 4,
 "nbformat_minor": 4
}
